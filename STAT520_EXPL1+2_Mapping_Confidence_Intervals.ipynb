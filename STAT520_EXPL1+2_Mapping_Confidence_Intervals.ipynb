{
  "nbformat": 4,
  "nbformat_minor": 0,
  "metadata": {
    "colab": {
      "provenance": [],
      "toc_visible": true,
      "authorship_tag": "ABX9TyO2Bw8ieczg9z/kDgaFxc1N",
      "include_colab_link": true
    },
    "kernelspec": {
      "name": "python3",
      "display_name": "Python 3"
    },
    "language_info": {
      "name": "python"
    }
  },
  "cells": [
    {
      "cell_type": "markdown",
      "metadata": {
        "id": "view-in-github",
        "colab_type": "text"
      },
      "source": [
        "<a href=\"https://colab.research.google.com/github/ksuaray/Suaray25/blob/main/STAT520_EXPL1%2B2_Mapping_Confidence_Intervals.ipynb\" target=\"_parent\"><img src=\"https://colab.research.google.com/assets/colab-badge.svg\" alt=\"Open In Colab\"/></a>"
      ]
    },
    {
      "cell_type": "markdown",
      "source": [
        "#**EXPLORATION 1 + 2: Mapping Confidence Intervals**\n",
        "**STAT 520**"
      ],
      "metadata": {
        "id": "TJHKK6vHhO0n"
      }
    },
    {
      "cell_type": "markdown",
      "source": [
        "**INSTRUCTIONS**: Open this notebook using your Gmail account. Make a copy of your own and complete your work within the notebook. If you do not have a Gmail account, you can copy and edit your version of this notebook in RStudio, VSCode, or any other IDE you prefer. When you complete the assignment, please submit a link to your file in **Canvas**. Each of you will submit your work, but you are encouraged to work together on this."
      ],
      "metadata": {
        "id": "MMYhzGtOt2f7"
      }
    },
    {
      "cell_type": "markdown",
      "source": [
        "##**Learning Outcomes**\n",
        "After completing this notebook, you wil be able to\n",
        "- *LO1:Recognize the use of confidence intervals in everyday life.*\n",
        "- *LO2:Construct tables of data using Python dictionaries and Pandas DataFrames.*\n",
        "- *LO3:Identify the sources of uncertainty in the theoretical construction of a confidence interval using the pivot method.*\n",
        "- *LO4:Compose a short mathematical derivation using markdown and LaTeX typesetting.*\n",
        "- *LO5:Examine an academic publication to relate modern applied research to the classical statistical theory of confidence intervals.*  \n",
        "\n",
        "\n",
        "\n"
      ],
      "metadata": {
        "id": "1WH-w2nEo75D"
      }
    },
    {
      "cell_type": "code",
      "source": [
        "import pandas as pd"
      ],
      "metadata": {
        "id": "u9-GXarJwMfG"
      },
      "execution_count": null,
      "outputs": []
    },
    {
      "cell_type": "markdown",
      "source": [
        "![](https://drive.google.com/uc?export=view&id=1UiaNTkpKu-WgJ9SJ2_pFiifBmN1eZvDr)"
      ],
      "metadata": {
        "id": "AT3qJt-ZoxIm"
      }
    },
    {
      "cell_type": "markdown",
      "source": [
        "##**Predicting Future Trip Times in Google Maps**"
      ],
      "metadata": {
        "id": "GXvppmI-tB38"
      }
    },
    {
      "cell_type": "markdown",
      "source": [
        "We all rely on apps such as Apple/Google Maps or Waze to help us determine how long our commute will take. Even for routine trips to work, school or home, we rely on these tools to provide reassurance that we're taking the most efficient route. In this workbook you will explore the relationship between trip time prediction and the classical statistical notion of confidence intervals."
      ],
      "metadata": {
        "id": "1S8gHizphcAc"
      }
    },
    {
      "cell_type": "markdown",
      "source": [
        "**EXERCISE 1: Navigate to [this link](https://www.google.com/maps/dir//LA5+%7C+CSULB,+Long+Beach,+CA+90840/@33.7789121,-118.1165051,17z/data=!4m8!4m7!1m0!1m5!1m1!1s0x80dd31d64906c1d5:0xafee01f73ce4c36b!2m2!1d-118.1139039!2d33.7789072?entry=ttu). Investigate the commute time prediction from each of the following schools to CSULB for Monday April 29, 2024 with a departure time of 5:00PM. Fill in the table below with the values you obtain by updating the *schools* library:**"
      ],
      "metadata": {
        "id": "9rGaXSrjjy0X"
      }
    },
    {
      "cell_type": "code",
      "source": [
        "schools = {'Departure School':['UC Irvine','Azusa Pacific University','USC','CSU San Marcos'],'Point Estimate':['pe1','pe2','pe3','pe4'],'Lower Bound':['lb1','lb2','lb3','lb4'],'Upper Bound':['ub1','ub2','ub3','ub4'],'Width':['w1','w2','w3','w4']}\n",
        "pd.DataFrame(schools)"
      ],
      "metadata": {
        "colab": {
          "base_uri": "https://localhost:8080/",
          "height": 174
        },
        "id": "QMLREzffwWta",
        "outputId": "b79aaa05-ee38-4079-c919-437099067f59"
      },
      "execution_count": null,
      "outputs": [
        {
          "output_type": "execute_result",
          "data": {
            "text/plain": [
              "           Departure School Point Estimate Lower Bound Upper Bound Width\n",
              "0                 UC Irvine            pe1         lb1         ub1    w1\n",
              "1  Azusa Pacific University            pe2         lb2         ub2    w2\n",
              "2                       USC            pe3         lb3         ub3    w3\n",
              "3            CSU San Marcos            pe4         lb4         ub4    w4"
            ],
            "text/html": [
              "\n",
              "  <div id=\"df-793cd114-24d6-4df2-bc59-354ad009dc3d\" class=\"colab-df-container\">\n",
              "    <div>\n",
              "<style scoped>\n",
              "    .dataframe tbody tr th:only-of-type {\n",
              "        vertical-align: middle;\n",
              "    }\n",
              "\n",
              "    .dataframe tbody tr th {\n",
              "        vertical-align: top;\n",
              "    }\n",
              "\n",
              "    .dataframe thead th {\n",
              "        text-align: right;\n",
              "    }\n",
              "</style>\n",
              "<table border=\"1\" class=\"dataframe\">\n",
              "  <thead>\n",
              "    <tr style=\"text-align: right;\">\n",
              "      <th></th>\n",
              "      <th>Departure School</th>\n",
              "      <th>Point Estimate</th>\n",
              "      <th>Lower Bound</th>\n",
              "      <th>Upper Bound</th>\n",
              "      <th>Width</th>\n",
              "    </tr>\n",
              "  </thead>\n",
              "  <tbody>\n",
              "    <tr>\n",
              "      <th>0</th>\n",
              "      <td>UC Irvine</td>\n",
              "      <td>pe1</td>\n",
              "      <td>lb1</td>\n",
              "      <td>ub1</td>\n",
              "      <td>w1</td>\n",
              "    </tr>\n",
              "    <tr>\n",
              "      <th>1</th>\n",
              "      <td>Azusa Pacific University</td>\n",
              "      <td>pe2</td>\n",
              "      <td>lb2</td>\n",
              "      <td>ub2</td>\n",
              "      <td>w2</td>\n",
              "    </tr>\n",
              "    <tr>\n",
              "      <th>2</th>\n",
              "      <td>USC</td>\n",
              "      <td>pe3</td>\n",
              "      <td>lb3</td>\n",
              "      <td>ub3</td>\n",
              "      <td>w3</td>\n",
              "    </tr>\n",
              "    <tr>\n",
              "      <th>3</th>\n",
              "      <td>CSU San Marcos</td>\n",
              "      <td>pe4</td>\n",
              "      <td>lb4</td>\n",
              "      <td>ub4</td>\n",
              "      <td>w4</td>\n",
              "    </tr>\n",
              "  </tbody>\n",
              "</table>\n",
              "</div>\n",
              "    <div class=\"colab-df-buttons\">\n",
              "\n",
              "  <div class=\"colab-df-container\">\n",
              "    <button class=\"colab-df-convert\" onclick=\"convertToInteractive('df-793cd114-24d6-4df2-bc59-354ad009dc3d')\"\n",
              "            title=\"Convert this dataframe to an interactive table.\"\n",
              "            style=\"display:none;\">\n",
              "\n",
              "  <svg xmlns=\"http://www.w3.org/2000/svg\" height=\"24px\" viewBox=\"0 -960 960 960\">\n",
              "    <path d=\"M120-120v-720h720v720H120Zm60-500h600v-160H180v160Zm220 220h160v-160H400v160Zm0 220h160v-160H400v160ZM180-400h160v-160H180v160Zm440 0h160v-160H620v160ZM180-180h160v-160H180v160Zm440 0h160v-160H620v160Z\"/>\n",
              "  </svg>\n",
              "    </button>\n",
              "\n",
              "  <style>\n",
              "    .colab-df-container {\n",
              "      display:flex;\n",
              "      gap: 12px;\n",
              "    }\n",
              "\n",
              "    .colab-df-convert {\n",
              "      background-color: #E8F0FE;\n",
              "      border: none;\n",
              "      border-radius: 50%;\n",
              "      cursor: pointer;\n",
              "      display: none;\n",
              "      fill: #1967D2;\n",
              "      height: 32px;\n",
              "      padding: 0 0 0 0;\n",
              "      width: 32px;\n",
              "    }\n",
              "\n",
              "    .colab-df-convert:hover {\n",
              "      background-color: #E2EBFA;\n",
              "      box-shadow: 0px 1px 2px rgba(60, 64, 67, 0.3), 0px 1px 3px 1px rgba(60, 64, 67, 0.15);\n",
              "      fill: #174EA6;\n",
              "    }\n",
              "\n",
              "    .colab-df-buttons div {\n",
              "      margin-bottom: 4px;\n",
              "    }\n",
              "\n",
              "    [theme=dark] .colab-df-convert {\n",
              "      background-color: #3B4455;\n",
              "      fill: #D2E3FC;\n",
              "    }\n",
              "\n",
              "    [theme=dark] .colab-df-convert:hover {\n",
              "      background-color: #434B5C;\n",
              "      box-shadow: 0px 1px 3px 1px rgba(0, 0, 0, 0.15);\n",
              "      filter: drop-shadow(0px 1px 2px rgba(0, 0, 0, 0.3));\n",
              "      fill: #FFFFFF;\n",
              "    }\n",
              "  </style>\n",
              "\n",
              "    <script>\n",
              "      const buttonEl =\n",
              "        document.querySelector('#df-793cd114-24d6-4df2-bc59-354ad009dc3d button.colab-df-convert');\n",
              "      buttonEl.style.display =\n",
              "        google.colab.kernel.accessAllowed ? 'block' : 'none';\n",
              "\n",
              "      async function convertToInteractive(key) {\n",
              "        const element = document.querySelector('#df-793cd114-24d6-4df2-bc59-354ad009dc3d');\n",
              "        const dataTable =\n",
              "          await google.colab.kernel.invokeFunction('convertToInteractive',\n",
              "                                                    [key], {});\n",
              "        if (!dataTable) return;\n",
              "\n",
              "        const docLinkHtml = 'Like what you see? Visit the ' +\n",
              "          '<a target=\"_blank\" href=https://colab.research.google.com/notebooks/data_table.ipynb>data table notebook</a>'\n",
              "          + ' to learn more about interactive tables.';\n",
              "        element.innerHTML = '';\n",
              "        dataTable['output_type'] = 'display_data';\n",
              "        await google.colab.output.renderOutput(dataTable, element);\n",
              "        const docLink = document.createElement('div');\n",
              "        docLink.innerHTML = docLinkHtml;\n",
              "        element.appendChild(docLink);\n",
              "      }\n",
              "    </script>\n",
              "  </div>\n",
              "\n",
              "\n",
              "<div id=\"df-6adf614d-45f3-412a-85e1-a67ac17807f0\">\n",
              "  <button class=\"colab-df-quickchart\" onclick=\"quickchart('df-6adf614d-45f3-412a-85e1-a67ac17807f0')\"\n",
              "            title=\"Suggest charts\"\n",
              "            style=\"display:none;\">\n",
              "\n",
              "<svg xmlns=\"http://www.w3.org/2000/svg\" height=\"24px\"viewBox=\"0 0 24 24\"\n",
              "     width=\"24px\">\n",
              "    <g>\n",
              "        <path d=\"M19 3H5c-1.1 0-2 .9-2 2v14c0 1.1.9 2 2 2h14c1.1 0 2-.9 2-2V5c0-1.1-.9-2-2-2zM9 17H7v-7h2v7zm4 0h-2V7h2v10zm4 0h-2v-4h2v4z\"/>\n",
              "    </g>\n",
              "</svg>\n",
              "  </button>\n",
              "\n",
              "<style>\n",
              "  .colab-df-quickchart {\n",
              "      --bg-color: #E8F0FE;\n",
              "      --fill-color: #1967D2;\n",
              "      --hover-bg-color: #E2EBFA;\n",
              "      --hover-fill-color: #174EA6;\n",
              "      --disabled-fill-color: #AAA;\n",
              "      --disabled-bg-color: #DDD;\n",
              "  }\n",
              "\n",
              "  [theme=dark] .colab-df-quickchart {\n",
              "      --bg-color: #3B4455;\n",
              "      --fill-color: #D2E3FC;\n",
              "      --hover-bg-color: #434B5C;\n",
              "      --hover-fill-color: #FFFFFF;\n",
              "      --disabled-bg-color: #3B4455;\n",
              "      --disabled-fill-color: #666;\n",
              "  }\n",
              "\n",
              "  .colab-df-quickchart {\n",
              "    background-color: var(--bg-color);\n",
              "    border: none;\n",
              "    border-radius: 50%;\n",
              "    cursor: pointer;\n",
              "    display: none;\n",
              "    fill: var(--fill-color);\n",
              "    height: 32px;\n",
              "    padding: 0;\n",
              "    width: 32px;\n",
              "  }\n",
              "\n",
              "  .colab-df-quickchart:hover {\n",
              "    background-color: var(--hover-bg-color);\n",
              "    box-shadow: 0 1px 2px rgba(60, 64, 67, 0.3), 0 1px 3px 1px rgba(60, 64, 67, 0.15);\n",
              "    fill: var(--button-hover-fill-color);\n",
              "  }\n",
              "\n",
              "  .colab-df-quickchart-complete:disabled,\n",
              "  .colab-df-quickchart-complete:disabled:hover {\n",
              "    background-color: var(--disabled-bg-color);\n",
              "    fill: var(--disabled-fill-color);\n",
              "    box-shadow: none;\n",
              "  }\n",
              "\n",
              "  .colab-df-spinner {\n",
              "    border: 2px solid var(--fill-color);\n",
              "    border-color: transparent;\n",
              "    border-bottom-color: var(--fill-color);\n",
              "    animation:\n",
              "      spin 1s steps(1) infinite;\n",
              "  }\n",
              "\n",
              "  @keyframes spin {\n",
              "    0% {\n",
              "      border-color: transparent;\n",
              "      border-bottom-color: var(--fill-color);\n",
              "      border-left-color: var(--fill-color);\n",
              "    }\n",
              "    20% {\n",
              "      border-color: transparent;\n",
              "      border-left-color: var(--fill-color);\n",
              "      border-top-color: var(--fill-color);\n",
              "    }\n",
              "    30% {\n",
              "      border-color: transparent;\n",
              "      border-left-color: var(--fill-color);\n",
              "      border-top-color: var(--fill-color);\n",
              "      border-right-color: var(--fill-color);\n",
              "    }\n",
              "    40% {\n",
              "      border-color: transparent;\n",
              "      border-right-color: var(--fill-color);\n",
              "      border-top-color: var(--fill-color);\n",
              "    }\n",
              "    60% {\n",
              "      border-color: transparent;\n",
              "      border-right-color: var(--fill-color);\n",
              "    }\n",
              "    80% {\n",
              "      border-color: transparent;\n",
              "      border-right-color: var(--fill-color);\n",
              "      border-bottom-color: var(--fill-color);\n",
              "    }\n",
              "    90% {\n",
              "      border-color: transparent;\n",
              "      border-bottom-color: var(--fill-color);\n",
              "    }\n",
              "  }\n",
              "</style>\n",
              "\n",
              "  <script>\n",
              "    async function quickchart(key) {\n",
              "      const quickchartButtonEl =\n",
              "        document.querySelector('#' + key + ' button');\n",
              "      quickchartButtonEl.disabled = true;  // To prevent multiple clicks.\n",
              "      quickchartButtonEl.classList.add('colab-df-spinner');\n",
              "      try {\n",
              "        const charts = await google.colab.kernel.invokeFunction(\n",
              "            'suggestCharts', [key], {});\n",
              "      } catch (error) {\n",
              "        console.error('Error during call to suggestCharts:', error);\n",
              "      }\n",
              "      quickchartButtonEl.classList.remove('colab-df-spinner');\n",
              "      quickchartButtonEl.classList.add('colab-df-quickchart-complete');\n",
              "    }\n",
              "    (() => {\n",
              "      let quickchartButtonEl =\n",
              "        document.querySelector('#df-6adf614d-45f3-412a-85e1-a67ac17807f0 button');\n",
              "      quickchartButtonEl.style.display =\n",
              "        google.colab.kernel.accessAllowed ? 'block' : 'none';\n",
              "    })();\n",
              "  </script>\n",
              "</div>\n",
              "\n",
              "    </div>\n",
              "  </div>\n"
            ],
            "application/vnd.google.colaboratory.intrinsic+json": {
              "type": "dataframe",
              "summary": "{\n  \"name\": \"pd\",\n  \"rows\": 4,\n  \"fields\": [\n    {\n      \"column\": \"Departure School\",\n      \"properties\": {\n        \"dtype\": \"string\",\n        \"num_unique_values\": 4,\n        \"samples\": [\n          \"Azusa Pacific University\",\n          \"CSU San Marcos\",\n          \"UC Irvine\"\n        ],\n        \"semantic_type\": \"\",\n        \"description\": \"\"\n      }\n    },\n    {\n      \"column\": \"Point Estimate\",\n      \"properties\": {\n        \"dtype\": \"string\",\n        \"num_unique_values\": 4,\n        \"samples\": [\n          \"pe2\",\n          \"pe4\",\n          \"pe1\"\n        ],\n        \"semantic_type\": \"\",\n        \"description\": \"\"\n      }\n    },\n    {\n      \"column\": \"Lower Bound\",\n      \"properties\": {\n        \"dtype\": \"string\",\n        \"num_unique_values\": 4,\n        \"samples\": [\n          \"lb2\",\n          \"lb4\",\n          \"lb1\"\n        ],\n        \"semantic_type\": \"\",\n        \"description\": \"\"\n      }\n    },\n    {\n      \"column\": \"Upper Bound\",\n      \"properties\": {\n        \"dtype\": \"string\",\n        \"num_unique_values\": 4,\n        \"samples\": [\n          \"ub2\",\n          \"ub4\",\n          \"ub1\"\n        ],\n        \"semantic_type\": \"\",\n        \"description\": \"\"\n      }\n    },\n    {\n      \"column\": \"Width\",\n      \"properties\": {\n        \"dtype\": \"string\",\n        \"num_unique_values\": 4,\n        \"samples\": [\n          \"w2\",\n          \"w4\",\n          \"w1\"\n        ],\n        \"semantic_type\": \"\",\n        \"description\": \"\"\n      }\n    }\n  ]\n}"
            }
          },
          "metadata": {},
          "execution_count": 3
        }
      ]
    },
    {
      "cell_type": "markdown",
      "source": [
        "**a. How is would you measure uncertainty in the trip time results?**\n"
      ],
      "metadata": {
        "id": "inJwNrQUnyeg"
      }
    },
    {
      "cell_type": "markdown",
      "source": [],
      "metadata": {
        "id": "usGq5qqDfUhE"
      }
    },
    {
      "cell_type": "markdown",
      "source": [
        "\n",
        "**b. Which school had the highest uncertainty? Lowest?**\n",
        "\n"
      ],
      "metadata": {
        "id": "6JAadJmufUZP"
      }
    },
    {
      "cell_type": "markdown",
      "source": [],
      "metadata": {
        "id": "QDtG2OF3fURa"
      }
    },
    {
      "cell_type": "markdown",
      "source": [
        "**c. Do you notice any trends in uncertainty among schools?**\n"
      ],
      "metadata": {
        "id": "WCihUbeLfUGz"
      }
    },
    {
      "cell_type": "markdown",
      "source": [],
      "metadata": {
        "id": "dOm4lYtafT8F"
      }
    },
    {
      "cell_type": "markdown",
      "source": [
        "**d. Which schools had the longest commutes? Is there any relation to distance from CSULB?**"
      ],
      "metadata": {
        "id": "RspJFL9XfdrY"
      }
    },
    {
      "cell_type": "markdown",
      "source": [],
      "metadata": {
        "id": "7jbuI1k2fdiI"
      }
    },
    {
      "cell_type": "markdown",
      "source": [
        "**e. Are there any other features that seem to be correlated with uncertainty?**"
      ],
      "metadata": {
        "id": "PNtVrAHTfdXA"
      }
    },
    {
      "cell_type": "markdown",
      "source": [],
      "metadata": {
        "id": "_PLUHlSzfjLK"
      }
    },
    {
      "cell_type": "markdown",
      "source": [
        "**EXERCISE 2: Investigate the commute time prediction for your assigned school to CSULB, this time varying date and time:**"
      ],
      "metadata": {
        "id": "fhSl-6irvy9C"
      }
    },
    {
      "cell_type": "markdown",
      "source": [
        "| First Name | Departure School   |\n",
        "|------------|--------------------|\n",
        "| A-E        | UC Irvine          |\n",
        "| F-J        | Azusa Pacific University |\n",
        "| K-O        | USC                |\n",
        "| P-Z        | CSU San Marcos     |"
      ],
      "metadata": {
        "id": "YOr2mwfvbwEI"
      }
    },
    {
      "cell_type": "markdown",
      "source": [
        "**Tabulate your observations in a Pandas DataFrame similar to *schools* above. Except now you should have the following four variables: one representing date, one for time, the next the point estimate, and the fourth the width. The number of rows in your data will be based on the date-time combinations you select (can you use an Experimental Design approach to select dates and times?). Provide the table in the following code block:**"
      ],
      "metadata": {
        "id": "GZqoJbsTbxI9"
      }
    },
    {
      "cell_type": "code",
      "source": [],
      "metadata": {
        "id": "75p1DvQdbRvu"
      },
      "execution_count": null,
      "outputs": []
    },
    {
      "cell_type": "markdown",
      "source": [
        "**EXERCISE 3: Using any method/approach you choose, do you detect any patterns in the relationship between date, time, point estimate and width as seen in your table in EXERCISE 2? The only wrong answer is one you don't put some thought into.**"
      ],
      "metadata": {
        "id": "gjnWZYVFcFdW"
      }
    },
    {
      "cell_type": "markdown",
      "source": [],
      "metadata": {
        "id": "bdwJetlIfnfZ"
      }
    },
    {
      "cell_type": "markdown",
      "source": [
        "##**Confidence Intervals**"
      ],
      "metadata": {
        "id": "1qeXrDTPsOtj"
      }
    },
    {
      "cell_type": "markdown",
      "source": [
        "In class we discussed the four steps of the pivot method, and saw how it could be used to construct a $(1-\\alpha)\\cdot 100\\%$ confidence interval for $\\sigma^2$."
      ],
      "metadata": {
        "id": "CEXWEvhEuT7l"
      }
    },
    {
      "cell_type": "markdown",
      "source": [
        "**EXERCISE 4: Using LaTeX, type the four steps below for your scenario based on your *Last* name. If you've never used LaTeX before, note that ChatGPT/CoPilot can help with typesetting.**"
      ],
      "metadata": {
        "id": "1PMOkuVjp8B8"
      }
    },
    {
      "cell_type": "markdown",
      "source": [
        "| Last Name | Population(s) | Parameter | Additional Consideration |\n",
        "|-----------|---------------|-----------|-------------------------|\n",
        "| A-I       | $$X_1,\\ldots,X_n \\sim N(\\mu_1,\\sigma^2)$$ <br> $$Y_1,\\ldots,Y_m \\sim N(\\mu_2,\\sigma^2)$$ | $$\\mu_1-\\mu_2$$ | $n$ and $m$ small and $\\sigma$ unknown |\n",
        "| J-Q       | $$X_1,\\ldots,X_n \\sim Ber(p_1)$$ <br> $$Y_1,\\ldots,Y_m \\sim Ber(p_2)$$  | $$p_1-p_2$$   | $n$ and $m$ large |\n",
        "| R-Z       | $$X_1,\\ldots,X_n \\sim N(\\mu_1,\\sigma^2)$$ <br>  $$Y_1,\\ldots,Y_m \\sim N(\\mu_2,\\sigma^2)$$|$$\\mu _{ 1 } -\\mu _{ 2 }$$|$n$ and $m$ large and $\\sigma$ known|\n"
      ],
      "metadata": {
        "id": "pbky2y3AhRdc"
      }
    },
    {
      "cell_type": "markdown",
      "source": [
        "**STEP 1**"
      ],
      "metadata": {
        "id": "jpP6gjzVqKfE"
      }
    },
    {
      "cell_type": "markdown",
      "source": [],
      "metadata": {
        "id": "9fNfNtdmqKcm"
      }
    },
    {
      "cell_type": "markdown",
      "source": [
        "**STEP 2**"
      ],
      "metadata": {
        "id": "5JSwOULXqKZa"
      }
    },
    {
      "cell_type": "markdown",
      "source": [],
      "metadata": {
        "id": "5NoCPFMiqKV-"
      }
    },
    {
      "cell_type": "markdown",
      "source": [
        "**STEP 3**"
      ],
      "metadata": {
        "id": "xI1imGlvqKSd"
      }
    },
    {
      "cell_type": "markdown",
      "source": [],
      "metadata": {
        "id": "XxWtZj2hqKPB"
      }
    },
    {
      "cell_type": "markdown",
      "source": [
        "**STEP 4**"
      ],
      "metadata": {
        "id": "U-jDj3eWqJn5"
      }
    },
    {
      "cell_type": "markdown",
      "source": [],
      "metadata": {
        "id": "LfW_syiKqU1H"
      }
    },
    {
      "cell_type": "markdown",
      "source": [
        "**EXERCISE 5: What are the sources of uncertainty that arise in the interval you developed in EXERCISE 4?**"
      ],
      "metadata": {
        "id": "kzkXf2IGrtdH"
      }
    },
    {
      "cell_type": "markdown",
      "source": [
        "##**A Theoretical Framework for Modeling Trip Time**"
      ],
      "metadata": {
        "id": "lFftozBlF14s"
      }
    },
    {
      "cell_type": "markdown",
      "source": [
        "The field of statistics is constantly growing. The scholarly article [*A Simple Baseline for Travel Time Estimation using Large-scale Trip Data*](https://dl.acm.org/doi/fullHtml/10.1145/3293317), written by a Twitter (X) employee with researchers at Penn State considers a sophisticated statistical model for problems similar to those you tackled in **EXERCISES 1-3**."
      ],
      "metadata": {
        "id": "DVER-njhrcvP"
      }
    },
    {
      "cell_type": "markdown",
      "source": [
        "**EXERCISE 6: Read the portion of the article before section 4.1. Write (at least) two paragraphs reflecting on the contents:**\n",
        "\n",
        "**Paragraph 1: Summarize the contents of the article.**\n",
        "\n",
        "**Paragraph 2: Discuss commonalities, differences, ways you could apply the contents of the article with your insights from EXERCISES 1-3.**\n"
      ],
      "metadata": {
        "id": "xGUQMmVpti5c"
      }
    },
    {
      "cell_type": "markdown",
      "source": [
        "**Paragraph 1**"
      ],
      "metadata": {
        "id": "4XWDHHOUtjt7"
      }
    },
    {
      "cell_type": "markdown",
      "source": [],
      "metadata": {
        "id": "eeb8QBaMtkVv"
      }
    },
    {
      "cell_type": "markdown",
      "source": [
        "**Paragraph 2**"
      ],
      "metadata": {
        "id": "cdFg8zE3tk5B"
      }
    },
    {
      "cell_type": "markdown",
      "source": [],
      "metadata": {
        "id": "WGZQxUVytlcG"
      }
    }
  ]
}